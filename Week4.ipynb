{
  "nbformat": 4,
  "nbformat_minor": 0,
  "metadata": {
    "colab": {
      "provenance": [],
      "authorship_tag": "ABX9TyOO8hI4m8s/hqrxsIz/CpI0",
      "include_colab_link": true
    },
    "kernelspec": {
      "name": "python3",
      "display_name": "Python 3"
    },
    "language_info": {
      "name": "python"
    }
  },
  "cells": [
    {
      "cell_type": "markdown",
      "metadata": {
        "id": "view-in-github",
        "colab_type": "text"
      },
      "source": [
        "<a href=\"https://colab.research.google.com/github/AarushiShahi/AI.LAB002/blob/main/Week4.ipynb\" target=\"_parent\"><img src=\"https://colab.research.google.com/assets/colab-badge.svg\" alt=\"Open In Colab\"/></a>"
      ]
    },
    {
      "cell_type": "code",
      "execution_count": null,
      "metadata": {
        "colab": {
          "base_uri": "https://localhost:8080/"
        },
        "id": "DsmmE-raYRjS",
        "outputId": "d178af54-7b17-48b4-a673-8051c416cf21"
      },
      "outputs": [
        {
          "output_type": "stream",
          "name": "stdout",
          "text": [
            "Enter the initial state of the 8-puzzle (use 0 for the empty tile):\n"
          ]
        }
      ],
      "source": [
        "def calculate_misplaced_tiles(state):\n",
        "    # Goal state, where 0 represents the empty tile\n",
        "    goal_state = [[1, 2, 3], [4, 5, 6], [7, 8, 0]]\n",
        "    misplaced_count = 0\n",
        "\n",
        "    for i in range(3):\n",
        "        for j in range(3):\n",
        "            if state[i][j] != goal_state[i][j]:\n",
        "                misplaced_count += 1\n",
        "    return misplaced_count\n",
        "\n",
        "def get_user_input():\n",
        "    print(\"Enter the initial state of the 8-puzzle (use 0 for the empty tile):\")\n",
        "    state = []\n",
        "    for i in range(3):\n",
        "        row = input(f\"Row {i + 1} (space-separated numbers): \").strip().split()\n",
        "        # Convert each row to integers\n",
        "        state.append([int(num) for num in row])\n",
        "    return state\n",
        "\n",
        "def main():\n",
        "    initial_state = get_user_input()\n",
        "    depth = 0  # g(n): Depth of the node\n",
        "    h = calculate_misplaced_tiles(initial_state)  # h(n): Misplaced tiles\n",
        "    print(f\"State:\\n{initial_state}\\nDepth: {depth}\\nh(n) (Misplaced Tiles): {h}\")\n",
        "\n",
        "if __name__ == \"__main__\":\n",
        "    main()\n"
      ]
    }
  ]
}