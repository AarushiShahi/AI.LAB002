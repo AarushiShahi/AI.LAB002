{
  "nbformat": 4,
  "nbformat_minor": 0,
  "metadata": {
    "colab": {
      "provenance": [],
      "authorship_tag": "ABX9TyOp1ozArnRGsZsun65Z7o3Q",
      "include_colab_link": true
    },
    "kernelspec": {
      "name": "python3",
      "display_name": "Python 3"
    },
    "language_info": {
      "name": "python"
    }
  },
  "cells": [
    {
      "cell_type": "markdown",
      "metadata": {
        "id": "view-in-github",
        "colab_type": "text"
      },
      "source": [
        "<a href=\"https://colab.research.google.com/github/AarushiShahi/AI.LAB002/blob/main/Week1(2).ipynb\" target=\"_parent\"><img src=\"https://colab.research.google.com/assets/colab-badge.svg\" alt=\"Open In Colab\"/></a>"
      ]
    },
    {
      "cell_type": "code",
      "execution_count": null,
      "metadata": {
        "id": "2o7hZji4aOzQ"
      },
      "outputs": [],
      "source": [
        "class VacuumCleanerAgent:\n",
        "    def __init__(self, initial_position):\n",
        "        # Initialize a 1x2 grid with \"Dirty\" states\n",
        "        self.grid = ['Dirty', 'Dirty']\n",
        "        self.position = initial_position\n",
        "        self.cleaned_count = 0\n",
        "\n",
        "    def print_grid(self):\n",
        "        print(\"Grid:\", self.grid)\n",
        "\n",
        "    def is_clean(self):\n",
        "        return self.cleaned_count == len(self.grid)\n",
        "\n",
        "    def clean(self):\n",
        "        if self.grid[self.position] == 'Dirty':\n",
        "            self.grid[self.position] = 'Clean'\n",
        "            self.cleaned_count += 1\n",
        "            print(f\"Cleaned position {self.position}.\")\n",
        "        else:\n",
        "            print(f\"Position {self.position} is already clean.\")\n",
        "\n",
        "    def move(self):\n",
        "        # Move to the next position (toggle between 0 and 1)\n",
        "        if self.position == 0:\n",
        "            self.position = 1\n",
        "        else:\n",
        "            self.position = 0\n",
        "\n",
        "        print(f\"Moved to position {self.position}.\")\n",
        "\n",
        "    def run(self):\n",
        "        while not self.is_clean():\n",
        "            self.clean()\n",
        "            self.move()\n",
        "            self.print_grid()\n",
        "\n",
        "        print(\"All positions cleaned!\")\n",
        "\n",
        "if __name__ == \"__main__\":\n",
        "    initial_position = int(input(\"Enter initial position (0 or 1): \"))\n",
        "\n",
        "    if initial_position in [0, 1]:\n",
        "        vacuum = VacuumCleanerAgent(initial_position)\n",
        "        vacuum.print_grid()\n",
        "        vacuum.run()\n",
        "    else:\n",
        "        print(\"Invalid initial position.\")"
      ]
    }
  ]
}